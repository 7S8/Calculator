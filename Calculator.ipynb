{
 "cells": [
  {
   "cell_type": "code",
   "execution_count": 2,
   "id": "0f7eb25a",
   "metadata": {},
   "outputs": [
    {
     "ename": "IndentationError",
     "evalue": "unindent does not match any outer indentation level (<tokenize>, line 38)",
     "output_type": "error",
     "traceback": [
      "\u001b[1;36m  File \u001b[1;32m\"<tokenize>\"\u001b[1;36m, line \u001b[1;32m38\u001b[0m\n\u001b[1;33m    def sqrtn(x):\u001b[0m\n\u001b[1;37m    ^\u001b[0m\n\u001b[1;31mIndentationError\u001b[0m\u001b[1;31m:\u001b[0m unindent does not match any outer indentation level\n"
     ]
    }
   ],
   "source": [
    "#импортируем библиотеку \"math\"\n",
    "import math\n",
    "\n",
    "s = 'тринадцать умножить восемьдесят восемь'\n",
    "dct_1 = {v: k for k, v in enumerate('один два три четыре пять шесть семь восемь девять десять одиннадцать двенадцать тринадцать четырнадцать пятнадцать шестнадцать семнадцать восемнадцать девятнадцать'.split(), 1)}\n",
    "dct_10 = {v: 10*k for k, v in enumerate(' двадцать тридцать сорок пятьдесят шестьдесят семьдесят восемьдесят девяносто'.split(), 2)}\n",
    "dct_100 = {v: 100*k for k, v in enumerate('сто двести триста четыреста пятьсот шестьсот семьсот восемьсот девятьсот'.split(), 1)}\n",
    "dct_1000 = {v: 1000*k for k, v in enumerate('одна тысяча,две тысячи,три тысячи,четыре тысячи,пять тысяч,шесть тысяч,семь тысяч,восемь тысяч,девять тысяч'.split(','), 1)}\n",
    "dct_ = {'плюс': '+', 'минус': '-', 'умножить': '*'}\n",
    " \n",
    "dct = {**dct_1, **dct_10, **dct_100, **dct_1000, **dct_}\n",
    " \n",
    "d = 0\n",
    "for elem in s.split():\n",
    "    if type(dct[elem]) == int:\n",
    "        d += dct[elem]\n",
    "    else:\n",
    "        res = d\n",
    "        op = dct[elem]\n",
    "        d = 0\n",
    "\n",
    "#добавляем функцию сложения и вычитания,умножения и деления\n",
    "\n",
    "def calc(a,b, operand):\n",
    "    if operand == '+':\n",
    "        res = a + b\n",
    "    elif operand == '-':\n",
    "        res = a - b\n",
    "    elif operand == '*':\n",
    "        res = a * b\n",
    "    elif operand == '/':\n",
    "        res = a / b \n",
    "    else:\n",
    "        res = 'Извините, но такой операции нет в калькуляторе.'\n",
    "    return res\n",
    "\n",
    "#добавляем функцию возведения в степень\n",
    "   def sqrtn(x):\n",
    "    return x**(1/n)\n",
    "\n",
    "dct_text = {v: k for k, v in dct.items()}\n",
    " \n",
    "txt = []\n",
    "if res < 0:\n",
    "    txt.append('минус')\n",
    "    res *= -1\n",
    "elif res == 0:\n",
    "    txt.append('ноль')\n",
    " \n",
    "k = 1000\n",
    "while k:\n",
    "    if res > k-1:\n",
    "        if res > 20:\n",
    "            txt.append(dct_text[res//k*k])\n",
    "            res %= k \n",
    "        else:\n",
    "            txt.append(dct_text[res])\n",
    "            k = 0\n",
    "    k //= 10\n",
    " \n",
    "print(' '.join(txt))"
   ]
  },
  {
   "cell_type": "code",
   "execution_count": 3,
   "id": "ddb6b08c",
   "metadata": {},
   "outputs": [
    {
     "data": {
      "text/plain": [
       "200"
      ]
     },
     "execution_count": 3,
     "metadata": {},
     "output_type": "execute_result"
    }
   ],
   "source": [
    "100+100"
   ]
  },
  {
   "cell_type": "code",
   "execution_count": 4,
   "id": "415151dd",
   "metadata": {},
   "outputs": [
    {
     "data": {
      "text/plain": [
       "245"
      ]
     },
     "execution_count": 4,
     "metadata": {},
     "output_type": "execute_result"
    }
   ],
   "source": [
    "500-255"
   ]
  },
  {
   "cell_type": "code",
   "execution_count": 5,
   "id": "03d885c7",
   "metadata": {},
   "outputs": [
    {
     "data": {
      "text/plain": [
       "8"
      ]
     },
     "execution_count": 5,
     "metadata": {},
     "output_type": "execute_result"
    }
   ],
   "source": [
    "2**3"
   ]
  },
  {
   "cell_type": "code",
   "execution_count": 6,
   "id": "e8f4b5e8",
   "metadata": {},
   "outputs": [
    {
     "data": {
      "text/plain": [
       "3380"
      ]
     },
     "execution_count": 6,
     "metadata": {},
     "output_type": "execute_result"
    }
   ],
   "source": [
    "52*65"
   ]
  },
  {
   "cell_type": "code",
   "execution_count": 1,
   "id": "1c8c403a",
   "metadata": {},
   "outputs": [
    {
     "data": {
      "text/plain": [
       "185193"
      ]
     },
     "execution_count": 1,
     "metadata": {},
     "output_type": "execute_result"
    }
   ],
   "source": [
    "57**3"
   ]
  },
  {
   "cell_type": "code",
   "execution_count": 2,
   "id": "53bbe205",
   "metadata": {},
   "outputs": [
    {
     "data": {
      "text/plain": [
       "1252332576"
      ]
     },
     "execution_count": 2,
     "metadata": {},
     "output_type": "execute_result"
    }
   ],
   "source": [
    "66**5\n"
   ]
  },
  {
   "cell_type": "code",
   "execution_count": 3,
   "id": "4d456183",
   "metadata": {},
   "outputs": [
    {
     "data": {
      "text/plain": [
       "973"
      ]
     },
     "execution_count": 3,
     "metadata": {},
     "output_type": "execute_result"
    }
   ],
   "source": [
    "85+888"
   ]
  },
  {
   "cell_type": "code",
   "execution_count": 4,
   "id": "ed2614f4",
   "metadata": {},
   "outputs": [
    {
     "data": {
      "text/plain": [
       "2197"
      ]
     },
     "execution_count": 4,
     "metadata": {},
     "output_type": "execute_result"
    }
   ],
   "source": [
    "13**3\n"
   ]
  },
  {
   "cell_type": "code",
   "execution_count": 5,
   "id": "7cff0866",
   "metadata": {},
   "outputs": [
    {
     "data": {
      "text/plain": [
       "5584059449"
      ]
     },
     "execution_count": 5,
     "metadata": {},
     "output_type": "execute_result"
    }
   ],
   "source": [
    "89**5"
   ]
  },
  {
   "cell_type": "code",
   "execution_count": 6,
   "id": "4dd1b493",
   "metadata": {},
   "outputs": [
    {
     "data": {
      "text/plain": [
       "100"
      ]
     },
     "execution_count": 6,
     "metadata": {},
     "output_type": "execute_result"
    }
   ],
   "source": [
    "55+45"
   ]
  },
  {
   "cell_type": "code",
   "execution_count": 3,
   "id": "67382791",
   "metadata": {},
   "outputs": [
    {
     "data": {
      "text/plain": [
       "200"
      ]
     },
     "execution_count": 3,
     "metadata": {},
     "output_type": "execute_result"
    }
   ],
   "source": [
    "100+100"
   ]
  },
  {
   "cell_type": "code",
   "execution_count": 4,
   "id": "f5cd9ad1",
   "metadata": {},
   "outputs": [
    {
     "data": {
      "text/plain": [
       "1.0"
      ]
     },
     "execution_count": 4,
     "metadata": {},
     "output_type": "execute_result"
    }
   ],
   "source": [
    "100/100"
   ]
  },
  {
   "cell_type": "code",
   "execution_count": 5,
   "id": "1ed0d14f",
   "metadata": {},
   "outputs": [
    {
     "data": {
      "text/plain": [
       "1.34998499849985"
      ]
     },
     "execution_count": 5,
     "metadata": {},
     "output_type": "execute_result"
    }
   ],
   "source": [
    "8999/6666"
   ]
  },
  {
   "cell_type": "code",
   "execution_count": 6,
   "id": "ae64dd77",
   "metadata": {},
   "outputs": [
    {
     "data": {
      "text/plain": [
       "1.34998499849985"
      ]
     },
     "execution_count": 6,
     "metadata": {},
     "output_type": "execute_result"
    }
   ],
   "source": [
    "8999/6666"
   ]
  },
  {
   "cell_type": "code",
   "execution_count": 7,
   "id": "6cd881e3",
   "metadata": {},
   "outputs": [
    {
     "data": {
      "text/plain": [
       "111.11111111111111"
      ]
     },
     "execution_count": 7,
     "metadata": {},
     "output_type": "execute_result"
    }
   ],
   "source": [
    "5000/45"
   ]
  },
  {
   "cell_type": "code",
   "execution_count": 8,
   "id": "ab7959bb",
   "metadata": {},
   "outputs": [
    {
     "data": {
      "text/plain": [
       "158.71428571428572"
      ]
     },
     "execution_count": 8,
     "metadata": {},
     "output_type": "execute_result"
    }
   ],
   "source": [
    "8888/56"
   ]
  },
  {
   "cell_type": "code",
   "execution_count": 9,
   "id": "ea5d032b",
   "metadata": {},
   "outputs": [
    {
     "data": {
      "text/plain": [
       "12.0"
      ]
     },
     "execution_count": 9,
     "metadata": {},
     "output_type": "execute_result"
    }
   ],
   "source": [
    "144/12"
   ]
  },
  {
   "cell_type": "code",
   "execution_count": 10,
   "id": "6df25af7",
   "metadata": {},
   "outputs": [
    {
     "data": {
      "text/plain": [
       "2520"
      ]
     },
     "execution_count": 10,
     "metadata": {},
     "output_type": "execute_result"
    }
   ],
   "source": [
    "56*45"
   ]
  },
  {
   "cell_type": "code",
   "execution_count": 11,
   "id": "fb40b5f6",
   "metadata": {},
   "outputs": [
    {
     "data": {
      "text/plain": [
       "2.0"
      ]
     },
     "execution_count": 11,
     "metadata": {},
     "output_type": "execute_result"
    }
   ],
   "source": [
    "100/50"
   ]
  },
  {
   "cell_type": "code",
   "execution_count": 12,
   "id": "d65831ff",
   "metadata": {},
   "outputs": [
    {
     "data": {
      "text/plain": [
       "3136"
      ]
     },
     "execution_count": 12,
     "metadata": {},
     "output_type": "execute_result"
    }
   ],
   "source": [
    "56**2"
   ]
  },
  {
   "cell_type": "code",
   "execution_count": null,
   "id": "564afd7c",
   "metadata": {},
   "outputs": [],
   "source": []
  }
 ],
 "metadata": {
  "kernelspec": {
   "display_name": "Python 3 (ipykernel)",
   "language": "python",
   "name": "python3"
  },
  "language_info": {
   "codemirror_mode": {
    "name": "ipython",
    "version": 3
   },
   "file_extension": ".py",
   "mimetype": "text/x-python",
   "name": "python",
   "nbconvert_exporter": "python",
   "pygments_lexer": "ipython3",
   "version": "3.9.13"
  }
 },
 "nbformat": 4,
 "nbformat_minor": 5
}
